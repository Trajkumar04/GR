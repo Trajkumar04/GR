{
 "cells": [
  {
   "cell_type": "code",
   "execution_count": 1,
   "metadata": {},
   "outputs": [],
   "source": [
    "import os\n",
    "import numpy as np\n",
    "import tensorflow as tf\n",
    "from tensorflow.keras.models import load_model\n",
    "from tensorflow.keras.preprocessing.image import ImageDataGenerator\n",
    "from sklearn.metrics import classification_report, confusion_matrix"
   ]
  },
  {
   "cell_type": "code",
   "execution_count": 2,
   "metadata": {},
   "outputs": [],
   "source": [
    "# Define paths\n",
    "model_path = '../models/gesture_recognition_model.h5'\n",
    "test_dir = '../data/validation'\n",
    "\n",
    "# Load the trained model\n",
    "model = load_model(model_path)"
   ]
  },
  {
   "cell_type": "code",
   "execution_count": 3,
   "metadata": {},
   "outputs": [
    {
     "name": "stdout",
     "output_type": "stream",
     "text": [
      "Found 320 images belonging to 8 classes.\n"
     ]
    }
   ],
   "source": [
    "test_datagen = ImageDataGenerator(rescale=1.0/255.0)\n",
    "\n",
    "test_generator = test_datagen.flow_from_directory(\n",
    "    test_dir,\n",
    "    target_size=(224, 224),\n",
    "    batch_size=32,\n",
    "    class_mode='categorical',\n",
    "    shuffle=False\n",
    ")"
   ]
  },
  {
   "cell_type": "code",
   "execution_count": 4,
   "metadata": {},
   "outputs": [
    {
     "name": "stdout",
     "output_type": "stream",
     "text": [
      "10/10 [==============================] - 7s 519ms/step - loss: 0.8681 - accuracy: 0.7250\n",
      "Test Accuracy: 72.50%\n",
      "10/10 [==============================] - 6s 487ms/step\n",
      "              precision    recall  f1-score   support\n",
      "\n",
      "        down       0.77      0.75      0.76        40\n",
      "       heart       0.93      0.95      0.94        40\n",
      "          ok       0.50      0.72      0.59        40\n",
      "       peace       0.70      0.65      0.68        40\n",
      "        rock       0.75      0.53      0.62        40\n",
      "       shaka       0.60      0.60      0.60        40\n",
      "        stop       0.81      0.88      0.84        40\n",
      "          up       0.85      0.72      0.78        40\n",
      "\n",
      "    accuracy                           0.73       320\n",
      "   macro avg       0.74      0.73      0.73       320\n",
      "weighted avg       0.74      0.72      0.73       320\n",
      "\n"
     ]
    }
   ],
   "source": [
    "# Evaluate the model on the test data\n",
    "scores = model.evaluate(test_generator)\n",
    "print(f\"Test Accuracy: {scores[1]*100:.2f}%\")\n",
    "\n",
    "# Get predictions\n",
    "predictions = model.predict(test_generator)\n",
    "predicted_classes = np.argmax(predictions, axis=1)\n",
    "true_classes = test_generator.classes\n",
    "class_labels = list(test_generator.class_indices.keys())\n",
    "\n",
    "# Print classification report\n",
    "print(classification_report(true_classes, predicted_classes, target_names=class_labels))"
   ]
  }
 ],
 "metadata": {
  "kernelspec": {
   "display_name": ".venv",
   "language": "python",
   "name": "python3"
  },
  "language_info": {
   "codemirror_mode": {
    "name": "ipython",
    "version": 3
   },
   "file_extension": ".py",
   "mimetype": "text/x-python",
   "name": "python",
   "nbconvert_exporter": "python",
   "pygments_lexer": "ipython3",
   "version": "3.9.13"
  }
 },
 "nbformat": 4,
 "nbformat_minor": 2
}
