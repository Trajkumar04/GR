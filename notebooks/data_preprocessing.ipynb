{
 "cells": [
  {
   "cell_type": "code",
   "execution_count": 5,
   "metadata": {},
   "outputs": [],
   "source": [
    "import os\n",
    "import shutil\n",
    "import random\n",
    "from PIL import Image"
   ]
  },
  {
   "cell_type": "code",
   "execution_count": 6,
   "metadata": {},
   "outputs": [
    {
     "name": "stdout",
     "output_type": "stream",
     "text": [
      "c:\\Users\\tanay\\OneDrive\\Documents\\Coding Stuff\\Personal Projects\\GR\\data\\train\n"
     ]
    }
   ],
   "source": [
    "# Define paths\n",
    "project_root = os.path.abspath('..')  # Adjust based on project structure\n",
    "raw_data_dir = os.path.join(project_root, 'data', 'raw_data')\n",
    "resized_data_dir = os.path.join(project_root, 'data', 'resized_data')\n",
    "train_dir = os.path.join(project_root, 'data', 'train')\n",
    "val_dir = os.path.join(project_root, 'data', 'validation')\n",
    "print(train_dir)"
   ]
  },
  {
   "cell_type": "code",
   "execution_count": 7,
   "metadata": {},
   "outputs": [],
   "source": [
    "# Create directories if they don't exist\n",
    "os.makedirs(resized_data_dir, exist_ok=True)\n",
    "os.makedirs(train_dir, exist_ok=True)\n",
    "os.makedirs(val_dir, exist_ok=True)"
   ]
  },
  {
   "cell_type": "code",
   "execution_count": 8,
   "metadata": {},
   "outputs": [],
   "source": [
    "# Define the target size for resizing\n",
    "target_size = (224, 224)"
   ]
  },
  {
   "cell_type": "code",
   "execution_count": 9,
   "metadata": {},
   "outputs": [
    {
     "name": "stderr",
     "output_type": "stream",
     "text": [
      "C:\\Users\\tanay\\AppData\\Local\\Temp\\ipykernel_19056\\1177825703.py:15: DeprecationWarning: ANTIALIAS is deprecated and will be removed in Pillow 10 (2023-07-01). Use Resampling.LANCZOS instead.\n",
      "  img = img.resize(target_size, Image.ANTIALIAS)\n"
     ]
    }
   ],
   "source": [
    "for gesture in os.listdir(raw_data_dir):\n",
    "    gesture_raw_dir = os.path.join(raw_data_dir, gesture)\n",
    "    gesture_resized_dir = os.path.join(resized_data_dir, gesture)\n",
    "    if os.path.isdir(gesture_raw_dir):\n",
    "        os.makedirs(gesture_resized_dir, exist_ok=True)\n",
    "        os.makedirs(os.path.join(train_dir, gesture), exist_ok=True)\n",
    "        os.makedirs(os.path.join(val_dir, gesture), exist_ok=True)\n",
    "\n",
    "        # Resize and save images\n",
    "        for image_name in os.listdir(gesture_raw_dir):\n",
    "            src = os.path.join(gesture_raw_dir, image_name)\n",
    "            dest = os.path.join(gesture_resized_dir, image_name)\n",
    "            try:\n",
    "                with Image.open(src) as img:\n",
    "                    img = img.resize(target_size, Image.ANTIALIAS)\n",
    "                    img.save(dest)\n",
    "            except Exception as e:\n",
    "                print(f\"Error processing {src}: {e}\")\n",
    "\n",
    "        # Split images into train and validation sets\n",
    "        images = os.listdir(gesture_resized_dir)\n",
    "        random.shuffle(images)\n",
    "\n",
    "        train_split = int(0.8 * len(images))\n",
    "\n",
    "        for i, image in enumerate(images):\n",
    "            src = os.path.join(gesture_resized_dir, image)\n",
    "            if i < train_split:\n",
    "                dest = os.path.join(train_dir, gesture, image)\n",
    "            else:\n",
    "                dest = os.path.join(val_dir, gesture, image)\n",
    "            shutil.copyfile(src, dest)"
   ]
  }
 ],
 "metadata": {
  "kernelspec": {
   "display_name": ".venv",
   "language": "python",
   "name": "python3"
  },
  "language_info": {
   "codemirror_mode": {
    "name": "ipython",
    "version": 3
   },
   "file_extension": ".py",
   "mimetype": "text/x-python",
   "name": "python",
   "nbconvert_exporter": "python",
   "pygments_lexer": "ipython3",
   "version": "3.9.13"
  }
 },
 "nbformat": 4,
 "nbformat_minor": 2
}
